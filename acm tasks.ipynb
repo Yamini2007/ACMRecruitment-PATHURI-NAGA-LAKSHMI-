{
 "cells": [
  {
   "cell_type": "code",
   "execution_count": 1,
   "id": "7c9415a3-3d5b-4053-8bb0-b406e9d449f9",
   "metadata": {},
   "outputs": [
    {
     "name": "stdout",
     "output_type": "stream",
     "text": [
      "233168\n"
     ]
    }
   ],
   "source": [
    "def sum_of_multiples(limit):\n",
    "    total_sum = 0\n",
    "    for number in range(limit):\n",
    "        if number % 3 == 0 or number % 5 == 0:\n",
    "            total_sum += number\n",
    "    return total_sum\n",
    "\n",
    "limit = 1000\n",
    "\n",
    "result = sum_of_multiples(limit)\n",
    "\n",
    "print(result)"
   ]
  },
  {
   "cell_type": "code",
   "execution_count": 2,
   "id": "43013b26-329d-4545-a754-719f328dd6f4",
   "metadata": {},
   "outputs": [
    {
     "name": "stdout",
     "output_type": "stream",
     "text": [
      "6857\n"
     ]
    }
   ],
   "source": [
    "def largest_prime_factor(n):\n",
    "    \n",
    "    largest_factor = None\n",
    "    \n",
    "    while n % 2 == 0:\n",
    "        largest_factor = 2\n",
    "        n //= 2\n",
    "\n",
    "    factor = 3\n",
    "    while factor * factor <= n:\n",
    "        if n % factor == 0:\n",
    "            largest_factor = factor\n",
    "            while n % factor == 0:\n",
    "                n //= factor\n",
    "        factor += 2\n",
    "\n",
    "    if n > 2:\n",
    "        largest_factor = n\n",
    "    return largest_factor\n",
    "\n",
    "number = 600851475143\n",
    "result = largest_prime_factor(number)\n",
    "print(result)"
   ]
  },
  {
   "cell_type": "code",
   "execution_count": 3,
   "id": "7d777092-fea0-4086-b9e7-fe2c78e2b59c",
   "metadata": {},
   "outputs": [
    {
     "name": "stdout",
     "output_type": "stream",
     "text": [
      "232792560\n"
     ]
    }
   ],
   "source": [
    "import math\n",
    "from functools import reduce\n",
    "\n",
    "def lcm(a, b):\n",
    "    return abs(a * b) // math.gcd(a, b)\n",
    "\n",
    "def lcm_multiple(numbers):\n",
    "    return reduce(lcm, numbers)\n",
    "\n",
    "numbers = range(1, 21)\n",
    "result = lcm_multiple(numbers)\n",
    "print(result)"
   ]
  },
  {
   "cell_type": "code",
   "execution_count": 4,
   "id": "e5622984-f873-4957-8a6d-23ea4c630a77",
   "metadata": {},
   "outputs": [
    {
     "name": "stdout",
     "output_type": "stream",
     "text": [
      "104743\n"
     ]
    }
   ],
   "source": [
    "def is_prime(num):\n",
    "    if num <= 1:\n",
    "        return False\n",
    "    if num <= 3:\n",
    "        return True\n",
    "    if num % 2 == 0 or num % 3 == 0:\n",
    "        return False\n",
    "    i = 5\n",
    "    while i * i <= num:\n",
    "        if num % i == 0 or num % (i + 2) == 0:\n",
    "            return False\n",
    "        i += 6\n",
    "    return True\n",
    "def find_nth_prime(n):\n",
    "    count = 0\n",
    "    num = 2\n",
    "    while count < n:\n",
    "        if is_prime(num):\n",
    "            count += 1\n",
    "        num += 1\n",
    "    return num - 1\n",
    "position = 10001\n",
    "result = find_nth_prime(position)\n",
    "print(result)"
   ]
  },
  {
   "cell_type": "code",
   "execution_count": 5,
   "id": "9ccf2679-acc9-4671-93d1-f0cec0b59c4b",
   "metadata": {},
   "outputs": [
    {
     "name": "stdout",
     "output_type": "stream",
     "text": [
      "142913828922\n"
     ]
    }
   ],
   "source": [
    "def sieve_of_eratosthenes(limit):\n",
    "    is_prime = [True] * limit\n",
    "    p = 2\n",
    "    while (p * p <= limit):\n",
    "        if (is_prime[p] == True):\n",
    "            for i in range(p * p, limit, p):\n",
    "                is_prime[i] = False\n",
    "        p += 1\n",
    "    return [p for p in range(2, limit) if is_prime[p]]\n",
    "def sum_of_primes_below(limit):\n",
    "    primes = sieve_of_eratosthenes(limit)\n",
    "    return sum(primes)\n",
    "limit = 2000000\n",
    "result = sum_of_primes_below(limit)\n",
    "print(result)"
   ]
  },
  {
   "cell_type": "code",
   "execution_count": 6,
   "id": "30aae326-b4e4-4efc-9179-aa9809591563",
   "metadata": {},
   "outputs": [
    {
     "name": "stdout",
     "output_type": "stream",
     "text": [
      "Welcome to the command-line calculator!\n",
      "Supported operations: +, -, *, /, ^ (exponentiation)\n",
      "Example usage: (2 + 3) * 4 ^ 2\n"
     ]
    },
    {
     "name": "stdin",
     "output_type": "stream",
     "text": [
      "Enter expression (or type 'exit' to quit):  exit\n"
     ]
    }
   ],
   "source": [
    "import math\n",
    "import re\n",
    "\n",
    "class Calculator:\n",
    "    def __init__(self):\n",
    "        self.operators = {\n",
    "            '+': self.add,\n",
    "            '-': self.subtract,\n",
    "            '*': self.multiply,\n",
    "            '/': self.divide,\n",
    "            '^': self.exponent\n",
    "        }\n",
    "    \n",
    "    def add(self, a, b):\n",
    "        return a + b\n",
    "    \n",
    "    def subtract(self, a, b):\n",
    "        return a - b\n",
    "    \n",
    "    def multiply(self, a, b):\n",
    "        return a * b\n",
    "    \n",
    "    def divide(self, a, b):\n",
    "        if b == 0:\n",
    "            raise ZeroDivisionError(\"Cannot divide by zero\")\n",
    "        return a / b\n",
    "    \n",
    "    def exponent(self, a, b):\n",
    "        return a ** b\n",
    "\n",
    "    def parse_expression(self, expression):\n",
    "        try:\n",
    "            \n",
    "            expression = expression.replace(' ', '')\n",
    "            expression = expression.replace('^', '**')\n",
    "            result = eval(expression, {\"__builtins__\": None}, self.operators)\n",
    "            return result\n",
    "        except ZeroDivisionError as e:\n",
    "            return str(e)\n",
    "        except Exception as e:\n",
    "            return f\"Error: {e}\"\n",
    "\n",
    "    def calculate(self, expression):\n",
    "        # Replace \"^\" with \"**\" to make use of Python's exponentiation\n",
    "        expression = re.sub(r'(\\d+)\\^(\\d+)', r'\\1**\\2', expression)\n",
    "        # Parse and evaluate the expression\n",
    "        return self.parse_expression(expression)\n",
    "\n",
    "def main():\n",
    "    calc = Calculator()\n",
    "    print(\"Welcome to the command-line calculator!\")\n",
    "    print(\"Supported operations: +, -, *, /, ^ (exponentiation)\")\n",
    "    print(\"Example usage: (2 + 3) * 4 ^ 2\")\n",
    "    \n",
    "    while True:\n",
    "        try:\n",
    "            expression = input(\"Enter expression (or type 'exit' to quit): \")\n",
    "            if expression.lower() == 'exit':\n",
    "                break\n",
    "            result = calc.calculate(expression)\n",
    "            print(f\"Result: {result}\")\n",
    "        except Exception as e:\n",
    "            print(f\"An error occurred: {e}\")\n",
    "\n",
    "if __name__ == \"__main__\":\n",
    "    main()"
   ]
  },
  {
   "cell_type": "code",
   "execution_count": 7,
   "id": "13ea9577-ae20-493b-8584-5a8e4d276c5a",
   "metadata": {},
   "outputs": [
    {
     "name": "stdout",
     "output_type": "stream",
     "text": [
      "Testing password 'A1b#cD3e': Error: Password is blacklisted.\n",
      "Testing password 'Xy4$Zz7!': Error: Password is blacklisted.\n",
      "Testing password 'P@ssw0rd': Error: Password is blacklisted.\n",
      "Testing password 'M!n3r4L^': Error: Password is blacklisted.\n",
      "Testing password 'T7r$eN8f': Error: Password is blacklisted.\n",
      "Testing password 'aB1#cD2e': Password is valid.\n",
      "Testing password '1aA@bcDE': Error: Password should not start with a number or special character.\n",
      "Testing password 'Abc123!!': Password is valid.\n",
      "Testing password '!@#$%^&*': Error: Password should not start with a number or special character.\n",
      "Testing password 'Abcdefgh': Error: Password must contain at least one special character.\n",
      "Testing password 'Ab1@efgh': Password is valid.\n"
     ]
    }
   ],
   "source": [
    "import re\n",
    "\n",
    "def validate_password(password):\n",
    "    blacklisted_passwords = [\"A1b#cD3e\", \"Xy4$Zz7!\", \"P@ssw0rd\", \"M!n3r4L^\", \"T7r$eN8f\"]\n",
    "    if password in blacklisted_passwords:\n",
    "        return \"Error: Password is blacklisted.\"\n",
    "\n",
    "    # Check length\n",
    "    if len(password) != 8:\n",
    "        return \"Error: Password must be exactly 8 characters long.\"\n",
    "    if re.match(r'^[0-9\\W]', password):\n",
    "        return \"Error: Password should not start with a number or special character.\"\n",
    "\n",
    "    if not re.search(r'[A-Z]', password):\n",
    "        return \"Error: Password must contain at least one uppercase letter.\"\n",
    "    if not re.search(r'[a-z]', password):\n",
    "        return \"Error: Password must contain at least one lowercase letter.\"\n",
    "    if not re.search(r'[!@#$%^&*()_+{}\\[\\]:;\"\\'<>,.?/\\\\|`~]', password):\n",
    "        return \"Error: Password must contain at least one special character.\"\n",
    "\n",
    "    # If all checks pass\n",
    "    return \"Password is valid.\"\n",
    "\n",
    "# Example usage\n",
    "test_passwords = [\n",
    "    \"A1b#cD3e\",  # Blacklisted\n",
    "    \"Xy4$Zz7!\",  # Blacklisted\n",
    "    \"P@ssw0rd\",  # Blacklisted\n",
    "    \"M!n3r4L^\",  # Blacklisted\n",
    "    \"T7r$eN8f\",  # Blacklisted\n",
    "    \"aB1#cD2e\",  # Valid\n",
    "    \"1aA@bcDE\",  # Valid\n",
    "    \"Abc123!!\",  # Invalid - length\n",
    "    \"!@#$%^&*\",  # Invalid - starts with special char\n",
    "    \"Abcdefgh\",  # Invalid - missing special char\n",
    "    \"Ab1@efgh\",  # Valid\n",
    "]\n",
    "\n",
    "for pwd in test_passwords:\n",
    "    print(f\"Testing password '{pwd}': {validate_password(pwd)}\")"
   ]
  },
  {
   "cell_type": "code",
   "execution_count": 8,
   "id": "48e5b5ff-4c75-41c5-8866-15780f26c513",
   "metadata": {},
   "outputs": [
    {
     "name": "stdout",
     "output_type": "stream",
     "text": [
      "Welcome to Tic-Tac-Toe!\n",
      "\n",
      "\n",
      "  |   |  \n",
      "--+---+--\n",
      "  |   |  \n",
      "--+---+--\n",
      "  |   |  \n",
      "\n",
      "\n"
     ]
    },
    {
     "name": "stdin",
     "output_type": "stream",
     "text": [
      "Enter your move (1-9):  4\n"
     ]
    },
    {
     "name": "stdout",
     "output_type": "stream",
     "text": [
      "\n",
      "\n",
      "  |   |  \n",
      "--+---+--\n",
      "X |   |  \n",
      "--+---+--\n",
      "  |   |  \n",
      "\n",
      "\n",
      "\n",
      "\n",
      "  |   |  \n",
      "--+---+--\n",
      "X |   |  \n",
      "--+---+--\n",
      "  |   | O\n",
      "\n",
      "\n"
     ]
    },
    {
     "name": "stdin",
     "output_type": "stream",
     "text": [
      "Enter your move (1-9):  3\n"
     ]
    },
    {
     "name": "stdout",
     "output_type": "stream",
     "text": [
      "\n",
      "\n",
      "  |   | X\n",
      "--+---+--\n",
      "X |   |  \n",
      "--+---+--\n",
      "  |   | O\n",
      "\n",
      "\n",
      "\n",
      "\n",
      "O |   | X\n",
      "--+---+--\n",
      "X |   |  \n",
      "--+---+--\n",
      "  |   | O\n",
      "\n",
      "\n"
     ]
    },
    {
     "name": "stdin",
     "output_type": "stream",
     "text": [
      "Enter your move (1-9):  6\n"
     ]
    },
    {
     "name": "stdout",
     "output_type": "stream",
     "text": [
      "\n",
      "\n",
      "O |   | X\n",
      "--+---+--\n",
      "X |   | X\n",
      "--+---+--\n",
      "  |   | O\n",
      "\n",
      "\n",
      "\n",
      "\n",
      "O |   | X\n",
      "--+---+--\n",
      "X | O | X\n",
      "--+---+--\n",
      "  |   | O\n",
      "\n",
      "\n",
      "Player O wins!\n"
     ]
    }
   ],
   "source": [
    "import random\n",
    "\n",
    "class TicTacToe:\n",
    "    def __init__(self):\n",
    "        self.board = [' ' for _ in range(9)]  # Board is a list of 9 spaces\n",
    "        self.current_player = 'X'  # Player 'X' starts\n",
    "        self.winner = None\n",
    "\n",
    "    def print_board(self):\n",
    "        print(\"\\n\")\n",
    "        print(f\"{self.board[0]} | {self.board[1]} | {self.board[2]}\")\n",
    "        print(\"--+---+--\")\n",
    "        print(f\"{self.board[3]} | {self.board[4]} | {self.board[5]}\")\n",
    "        print(\"--+---+--\")\n",
    "        print(f\"{self.board[6]} | {self.board[7]} | {self.board[8]}\")\n",
    "        print(\"\\n\")\n",
    "\n",
    "    def is_winner(self, player):\n",
    "        win_conditions = [\n",
    "            [0, 1, 2], [3, 4, 5], [6, 7, 8],  # Rows\n",
    "            [0, 3, 6], [1, 4, 7], [2, 5, 8],  # Columns\n",
    "            [0, 4, 8], [2, 4, 6]              # Diagonals\n",
    "        ]\n",
    "        for condition in win_conditions:\n",
    "            if all(self.board[i] == player for i in condition):\n",
    "                return True\n",
    "        return False\n",
    "\n",
    "    def is_full(self):\n",
    "        return ' ' not in self.board\n",
    "\n",
    "    def make_move(self, position, player):\n",
    "        if self.board[position] == ' ':\n",
    "            self.board[position] = player\n",
    "            if self.is_winner(player):\n",
    "                self.winner = player\n",
    "            elif self.is_full():\n",
    "                self.winner = 'D'  # Draw\n",
    "            return True\n",
    "        else:\n",
    "            return False\n",
    "\n",
    "    def player_move(self):\n",
    "        while True:\n",
    "            try:\n",
    "                position = int(input(\"Enter your move (1-9): \")) - 1\n",
    "                if 0 <= position <= 8:\n",
    "                    if self.make_move(position, 'X'):\n",
    "                        break\n",
    "                    else:\n",
    "                        print(\"Invalid move. The position is already occupied.\")\n",
    "                else:\n",
    "                    print(\"Invalid position. Choose a number between 1 and 9.\")\n",
    "            except ValueError:\n",
    "                print(\"Invalid input. Please enter a number between 1 and 9.\")\n",
    "\n",
    "    def computer_move(self):\n",
    "        available_moves = [i for i, spot in enumerate(self.board) if spot == ' ']\n",
    "        position = random.choice(available_moves)\n",
    "        self.make_move(position, 'O')\n",
    "\n",
    "    def play_game(self):\n",
    "        print(\"Welcome to Tic-Tac-Toe!\")\n",
    "        self.print_board()\n",
    "        \n",
    "        while not self.winner:\n",
    "            if self.current_player == 'X':\n",
    "                self.player_move()\n",
    "                self.current_player = 'O'\n",
    "            else:\n",
    "                self.computer_move()\n",
    "                self.current_player = 'X'\n",
    "            self.print_board()\n",
    "\n",
    "        if self.winner == 'D':\n",
    "            print(\"It's a draw!\")\n",
    "        else:\n",
    "            print(f\"Player {self.winner} wins!\")\n",
    "\n",
    "if __name__ == \"__main__\":\n",
    "    game = TicTacToe()\n",
    "    game.play_game()\n"
   ]
  },
  {
   "cell_type": "code",
   "execution_count": null,
   "id": "0ae6f192-e161-4170-bbf3-e21d7b0f133e",
   "metadata": {},
   "outputs": [],
   "source": []
  }
 ],
 "metadata": {
  "kernelspec": {
   "display_name": "Python 3 (ipykernel)",
   "language": "python",
   "name": "python3"
  },
  "language_info": {
   "codemirror_mode": {
    "name": "ipython",
    "version": 3
   },
   "file_extension": ".py",
   "mimetype": "text/x-python",
   "name": "python",
   "nbconvert_exporter": "python",
   "pygments_lexer": "ipython3",
   "version": "3.12.5"
  }
 },
 "nbformat": 4,
 "nbformat_minor": 5
}
